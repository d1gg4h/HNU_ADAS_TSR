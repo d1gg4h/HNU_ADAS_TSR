{
 "cells": [
  {
   "cell_type": "markdown",
   "metadata": {},
   "source": [
    "# Python Tutorial"
   ]
  },
  {
   "cell_type": "markdown",
   "metadata": {},
   "source": [
    "## Preamble\n",
    "\n",
    "<p style=\"color:white;background-color:Tomato;\">Attention!<br> You only need to install Python, Jupyter Notebook and other Tools mentioned in this and other tutorials, if you plan to work outside of the Binder environment.<br>\n",
    "<b>You dont need to install anything if you're working in Binder.</b> \n",
    "</p>\n",
    "\n",
    "Python is a general-purpose, dynamic, high-level programming language that is easy to read (code readability) and easy to learn. Python distinguishes itself by its clear syntax, since e.g. blocks are not structured by brackets, but by white space.\n",
    "One of Pythons biggest strengths is the broad standard library.\n",
    "\n",
    "### Python 2.7 and Python 3.X\n",
    "\n",
    "On first contact with Python, you will quickly come across two different versions. As can be seen from the version number, Python 2 is the older version. It was supported until April 2020 and is considered \"depricated\", i.e. outdated, since then. However, for legacy reasons Python 2.7 is still in use but an upgrade is recommended. \n",
    "\n",
    "If you encounter a program in Python 2, you should be aware that some elements behave differently in Python 3.\n",
    "In this tutorial we use the current version of Python 3 (v 3.8.2)\n",
    "\n",
    "### Installation\n",
    "The original source for Python is the so called *Python Foundation*, which develops and maintains the programming language. Furthermore, the Python Foundation also provides extensive documentation for Python.\n",
    "***\n",
    "[Python Foundation](https://www.python.org/)<br>\n",
    "[Python 3 documentation](https://docs.python.org/3/)\n",
    "***\n",
    "An alternative, though less slim, solution is offered by *Anaconda*. The advantage is that many packages are already included and others can be easily added using a browser.\n",
    "Additionally, different projects like Jupyter Notebook (this document was created with it) and Spyder (IDE) are included and make the start easier.\n",
    "***\n",
    "[Anaconda](https://www.anaconda.com)<br>\n",
    "[Anaconda Individual Edition - open-source version](https://www.anaconda.com/products/individual)\n",
    "***\n",
    "#### Package installation\n",
    "Eine Grundlage für viele Python Programme sind *Python Module*. Da Python unter andrem durch die Comunity und von deren Beiträgen lebt, gibt es eine Vielzahl an unterschiedlichen *Packages*. Die häufigsten *Packages*, die euch womöglich begegnen werden sind:\n",
    "A basis for many Python programs are so called *packages*. Since Python lives, among other things, through the contributions of its community, there is a vast number of diverse third-party *packages*. <br> \n",
    "The most common *packages* you might encounter are:\n",
    "\n",
    "- Tensorflow (Mashine Learning Framework)\n",
    "    - including Keras (Library)\n",
    "- Matplotlib (visualisation)\n",
    "- Numpy (Numerical analysis)\n",
    "- Scipy (Numerical analysis)\n",
    "- opencv (computer vision)\n",
    "\n",
    "The packages can be installed with a package manager like ```pip```:\n",
    "\n",
    "```python -m pip install SomePackage```\n",
    "<br>\n",
    "Using a package:<br> \n",
    "```import package as pkg```\n",
    "```from package import lib```\n",
    "\n",
    "***\n",
    "[Installing Python modules](https://docs.python.org/3/installing/index.html)<br>\n",
    "[Python Package Index](https://pypi.org/)\n",
    "***\n",
    "<p style=\"color:white;background-color:Tomato;\">Attention!<br>\n",
    "Please make sure to install the correct desired package, since packages with relatively similar names exist. \n",
    "(-> hight risk of malware)<br>\n",
    "Only install packages that are necessary. Some packages cannot coexist in the same environment.\n",
    "For optimal performance use different virtual environments for each project.<br>\n",
    "</p>\n",
    "\n",
    "[Creating virtual environments](https://packaging.python.org/tutorials/installing-packages/#creating-virtual-environments)\n"
   ]
  },
  {
   "cell_type": "markdown",
   "metadata": {},
   "source": [
    "## Variables and Strings\n",
    "\n",
    "Variables are used to store values. A string is a series of characters, surrounded by single or double quotes."
   ]
  },
  {
   "cell_type": "markdown",
   "metadata": {},
   "source": [
    "Hello world"
   ]
  },
  {
   "cell_type": "code",
   "execution_count": 27,
   "metadata": {},
   "outputs": [
    {
     "name": "stdout",
     "output_type": "stream",
     "text": [
      "Hello world!\n"
     ]
    }
   ],
   "source": [
    "print(\"Hello world!\")"
   ]
  },
  {
   "cell_type": "markdown",
   "metadata": {},
   "source": [
    "Hello world with a variable"
   ]
  },
  {
   "cell_type": "code",
   "execution_count": 28,
   "metadata": {},
   "outputs": [
    {
     "name": "stdout",
     "output_type": "stream",
     "text": [
      "Hello world!\n"
     ]
    }
   ],
   "source": [
    "msg = \"Hello world!\" \n",
    "print(msg)"
   ]
  },
  {
   "cell_type": "markdown",
   "metadata": {},
   "source": [
    "Concatenation (combining strings)"
   ]
  },
  {
   "cell_type": "code",
   "execution_count": 29,
   "metadata": {},
   "outputs": [
    {
     "name": "stdout",
     "output_type": "stream",
     "text": [
      "Albert Einstein\n"
     ]
    }
   ],
   "source": [
    "first_name = 'Albert' \n",
    "last_name = 'Einstein' \n",
    "full_name = first_name + ' ' + last_name \n",
    "print(full_name)"
   ]
  },
  {
   "cell_type": "markdown",
   "metadata": {},
   "source": [
    "## Lists\n",
    "\n",
    "A list stores a series of items in a particular order. You access items using an index, or within a loop."
   ]
  },
  {
   "cell_type": "markdown",
   "metadata": {},
   "source": [
    "Make a List"
   ]
  },
  {
   "cell_type": "code",
   "execution_count": 30,
   "metadata": {},
   "outputs": [],
   "source": [
    "bikes = ['BMX', 'E-Bike', 'Mountainbike']"
   ]
  },
  {
   "cell_type": "markdown",
   "metadata": {},
   "source": [
    "Get the first item"
   ]
  },
  {
   "cell_type": "code",
   "execution_count": 31,
   "metadata": {},
   "outputs": [
    {
     "name": "stdout",
     "output_type": "stream",
     "text": [
      "BMX\n"
     ]
    }
   ],
   "source": [
    "first_bike = bikes[0]\n",
    "print(first_bike)"
   ]
  },
  {
   "cell_type": "markdown",
   "metadata": {},
   "source": [
    "Get the last item"
   ]
  },
  {
   "cell_type": "code",
   "execution_count": 32,
   "metadata": {},
   "outputs": [
    {
     "name": "stdout",
     "output_type": "stream",
     "text": [
      "Mountainbike\n"
     ]
    }
   ],
   "source": [
    "last_bike = bikes[-1]\n",
    "print(last_bike)"
   ]
  },
  {
   "cell_type": "code",
   "execution_count": 33,
   "metadata": {},
   "outputs": [
    {
     "name": "stdout",
     "output_type": "stream",
     "text": [
      "BMX\n",
      "E-Bike\n",
      "Mountainbike\n"
     ]
    }
   ],
   "source": [
    "for bike in bikes: \n",
    "    print(bike)"
   ]
  },
  {
   "cell_type": "markdown",
   "metadata": {},
   "source": [
    "Adding items to a list:"
   ]
  },
  {
   "cell_type": "code",
   "execution_count": 34,
   "metadata": {},
   "outputs": [
    {
     "name": "stdout",
     "output_type": "stream",
     "text": [
      "['BMX', 'E-Bike', 'Mountainbike']\n"
     ]
    }
   ],
   "source": [
    "bikes = [] \n",
    "bikes.append('BMX') \n",
    "bikes.append('E-Bike') \n",
    "bikes.append('Mountainbike')\n",
    "print(bikes)"
   ]
  },
  {
   "cell_type": "markdown",
   "metadata": {},
   "source": [
    "Numerical lists:"
   ]
  },
  {
   "cell_type": "code",
   "execution_count": 35,
   "metadata": {},
   "outputs": [
    {
     "name": "stdout",
     "output_type": "stream",
     "text": [
      "[1, 4, 9, 16, 25, 36, 49, 64, 81, 100]\n"
     ]
    }
   ],
   "source": [
    "squares = [] \n",
    "for x in range(1, 11): \n",
    "    squares.append(x**2)\n",
    "print(squares)"
   ]
  },
  {
   "cell_type": "code",
   "execution_count": 36,
   "metadata": {},
   "outputs": [
    {
     "name": "stdout",
     "output_type": "stream",
     "text": [
      "[1, 4, 9, 16, 25, 36, 49, 64, 81, 100]\n"
     ]
    }
   ],
   "source": [
    "squares = [x**2 for x in range(1, 11)]\n",
    "print(squares)"
   ]
  },
  {
   "cell_type": "markdown",
   "metadata": {},
   "source": [
    "Deviding a list:"
   ]
  },
  {
   "cell_type": "code",
   "execution_count": 37,
   "metadata": {},
   "outputs": [
    {
     "name": "stdout",
     "output_type": "stream",
     "text": [
      "['BMX', 'E-Bike']\n"
     ]
    }
   ],
   "source": [
    "bikes = ['BMX', 'E-Bike', 'Mountainbike', 'Stadtrad']\n",
    "first_two = bikes[:2]\n",
    "print(first_two)"
   ]
  },
  {
   "cell_type": "markdown",
   "metadata": {},
   "source": [
    "Copying a list:"
   ]
  },
  {
   "cell_type": "code",
   "execution_count": 38,
   "metadata": {},
   "outputs": [
    {
     "name": "stdout",
     "output_type": "stream",
     "text": [
      "['BMX', 'E-Bike', 'Mountainbike', 'Stadtrad']\n"
     ]
    }
   ],
   "source": [
    "copy_of_bikes = bikes[:]\n",
    "print(copy_of_bikes)"
   ]
  },
  {
   "cell_type": "markdown",
   "metadata": {},
   "source": [
    "### Tuples\n",
    "Tuples are similar to lists, but the items in a tuple can't be modified."
   ]
  },
  {
   "cell_type": "code",
   "execution_count": 39,
   "metadata": {},
   "outputs": [
    {
     "data": {
      "text/plain": [
       "tuple"
      ]
     },
     "execution_count": 39,
     "metadata": {},
     "output_type": "execute_result"
    }
   ],
   "source": [
    "dimensions = (1920, 1080)\n",
    "type(dimensions)"
   ]
  },
  {
   "cell_type": "markdown",
   "metadata": {},
   "source": [
    "## User input\n",
    "You can prompt the user for input. All inputs are stored as ```String``` and must be converted if necessary"
   ]
  },
  {
   "cell_type": "code",
   "execution_count": 40,
   "metadata": {
    "scrolled": false
   },
   "outputs": [
    {
     "name": "stdout",
     "output_type": "stream",
     "text": [
      "What's your name? Leeroy Jenkins\n",
      "Hello, Leeroy Jenkins!\n"
     ]
    }
   ],
   "source": [
    "name = input(\"What's your name? \") \n",
    "print(\"Hello, \" + name + \"!\")"
   ]
  },
  {
   "cell_type": "markdown",
   "metadata": {},
   "source": [
    "Numerical input"
   ]
  },
  {
   "cell_type": "code",
   "execution_count": 41,
   "metadata": {},
   "outputs": [
    {
     "name": "stdout",
     "output_type": "stream",
     "text": [
      "How old are you? 32\n",
      "What's the value of pi? 3.14\n"
     ]
    }
   ],
   "source": [
    "age = input(\"How old are you? \") \n",
    "age = int(age) \n",
    "\n",
    "pi = input(\"What's the value of pi? \") \n",
    "pi = float(pi)"
   ]
  },
  {
   "cell_type": "markdown",
   "metadata": {},
   "source": [
    "## If statements"
   ]
  },
  {
   "cell_type": "markdown",
   "metadata": {},
   "source": [
    "### Basics\n",
    "<table>    \n",
    "  <tr>\n",
    "    <td>equals</td>\n",
    "    <td>x == 42</td>\n",
    "  </tr>\n",
    "  <tr>\n",
    "    <td>not equal</td>\n",
    "    <td> x != 42 </td>\n",
    "  </tr>\n",
    "  <tr>\n",
    "    <td>greater than</td>\n",
    "    <td>x > 42</td>\n",
    "  </tr>\n",
    "  <tr>\n",
    "    <td>or equal to</td>\n",
    "    <td>x >= 42</td>\n",
    "  </tr>\n",
    "  <tr>\n",
    "    <td>less than</td>\n",
    "    <td>x &lt; 42 </td>\n",
    "  </tr>\n",
    "  <tr>\n",
    "    <td>or equal to</td>\n",
    "    <td>x &lt;= 42 </td>\n",
    "  </tr>\n",
    "</table>"
   ]
  },
  {
   "cell_type": "markdown",
   "metadata": {},
   "source": [
    "### Statements"
   ]
  },
  {
   "cell_type": "code",
   "execution_count": 42,
   "metadata": {},
   "outputs": [
    {
     "data": {
      "text/plain": [
       "True"
      ]
     },
     "execution_count": 42,
     "metadata": {},
     "output_type": "execute_result"
    }
   ],
   "source": [
    "'BMX' in bikes "
   ]
  },
  {
   "cell_type": "code",
   "execution_count": 43,
   "metadata": {},
   "outputs": [
    {
     "data": {
      "text/plain": [
       "True"
      ]
     },
     "execution_count": 43,
     "metadata": {},
     "output_type": "execute_result"
    }
   ],
   "source": [
    "'BMW' not in bikes"
   ]
  },
  {
   "cell_type": "code",
   "execution_count": 44,
   "metadata": {},
   "outputs": [
    {
     "name": "stdout",
     "output_type": "stream",
     "text": [
      "Apply for your driving licence!\n"
     ]
    }
   ],
   "source": [
    "if age >= 17: \n",
    "    print(\"Apply for your driving licence!\")"
   ]
  },
  {
   "cell_type": "code",
   "execution_count": 45,
   "metadata": {},
   "outputs": [],
   "source": [
    "if age < 4:\n",
    "    ticket_price = 0 \n",
    "elif age < 18:\n",
    "    ticket_price = 10 \n",
    "else: \n",
    "    ticket_price = 15"
   ]
  },
  {
   "cell_type": "markdown",
   "metadata": {},
   "source": [
    "## While loops"
   ]
  },
  {
   "cell_type": "code",
   "execution_count": 46,
   "metadata": {},
   "outputs": [
    {
     "name": "stdout",
     "output_type": "stream",
     "text": [
      "1\n",
      "2\n",
      "3\n",
      "4\n",
      "5\n"
     ]
    }
   ],
   "source": [
    "current_value = 1 \n",
    "while current_value <= 5:\n",
    "    print(current_value) \n",
    "    current_value += 1"
   ]
  },
  {
   "cell_type": "markdown",
   "metadata": {},
   "source": [
    "Quit after prompt"
   ]
  },
  {
   "cell_type": "code",
   "execution_count": 47,
   "metadata": {},
   "outputs": [
    {
     "name": "stdout",
     "output_type": "stream",
     "text": [
      "Should I keep going? yes\n",
      "yes\n",
      "Should I keep going? no\n",
      "no\n"
     ]
    }
   ],
   "source": [
    "msg = '' \n",
    "while msg != 'no': \n",
    "    msg = input(\"Should I keep going? \") \n",
    "    print(msg)"
   ]
  },
  {
   "cell_type": "markdown",
   "metadata": {},
   "source": [
    "## Dictionaries\n",
    "Dictionaries store connections between pieces of information. Each item in a dictionary is a key-value pair.\n",
    "A simple dictionary:"
   ]
  },
  {
   "cell_type": "code",
   "execution_count": 48,
   "metadata": {},
   "outputs": [],
   "source": [
    "alien = {'color': 'green', 'points': 5}"
   ]
  },
  {
   "cell_type": "markdown",
   "metadata": {},
   "source": [
    "Accessing a value:"
   ]
  },
  {
   "cell_type": "code",
   "execution_count": 49,
   "metadata": {},
   "outputs": [
    {
     "name": "stdout",
     "output_type": "stream",
     "text": [
      "The alien's color is green\n"
     ]
    }
   ],
   "source": [
    "print(\"The alien's color is \" + alien['color'])"
   ]
  },
  {
   "cell_type": "markdown",
   "metadata": {},
   "source": [
    "Adding a new key-value pair:"
   ]
  },
  {
   "cell_type": "code",
   "execution_count": 50,
   "metadata": {},
   "outputs": [],
   "source": [
    "alien['x_position'] = 0"
   ]
  },
  {
   "cell_type": "markdown",
   "metadata": {},
   "source": [
    "Looping through all key-value pairs:"
   ]
  },
  {
   "cell_type": "code",
   "execution_count": 51,
   "metadata": {},
   "outputs": [
    {
     "name": "stdout",
     "output_type": "stream",
     "text": [
      "eric loves 17\n",
      "ever loves 4\n"
     ]
    }
   ],
   "source": [
    "fav_numbers = {'eric': 17, 'ever': 4} \n",
    "for name, number in fav_numbers.items(): \n",
    "    print(name + ' loves ' + str(number))"
   ]
  },
  {
   "cell_type": "markdown",
   "metadata": {},
   "source": [
    "Looping through all keys:"
   ]
  },
  {
   "cell_type": "code",
   "execution_count": 52,
   "metadata": {},
   "outputs": [
    {
     "name": "stdout",
     "output_type": "stream",
     "text": [
      "eric loves a number\n",
      "ever loves a number\n"
     ]
    }
   ],
   "source": [
    "fav_numbers = {'eric': 17, 'ever': 4} \n",
    "for name in fav_numbers.keys(): \n",
    "    print(name + ' loves a number')"
   ]
  },
  {
   "cell_type": "markdown",
   "metadata": {},
   "source": [
    "Looping through all the values:"
   ]
  },
  {
   "cell_type": "code",
   "execution_count": 53,
   "metadata": {},
   "outputs": [
    {
     "name": "stdout",
     "output_type": "stream",
     "text": [
      "17 is a favorite\n",
      "4 is a favorite\n"
     ]
    }
   ],
   "source": [
    "fav_numbers = {'eric': 17, 'ever': 4} \n",
    "for number in fav_numbers.values(): \n",
    "    print(str(number) + ' is a favorite')"
   ]
  },
  {
   "cell_type": "markdown",
   "metadata": {},
   "source": [
    "## Functions\n",
    "Functions are named blocks of code, designed to do one specific job. Information passed to a function is called an argument, and information received by a function is called a parameter."
   ]
  },
  {
   "cell_type": "code",
   "execution_count": 54,
   "metadata": {},
   "outputs": [
    {
     "name": "stdout",
     "output_type": "stream",
     "text": [
      "Hello, Prof. Meyer!\n"
     ]
    }
   ],
   "source": [
    "def greet_user(username):\n",
    "    \"\"\"Display a personalized greeting.\"\"\" \n",
    "    print(\"Hello, \" + username + \"!\") \n",
    "\n",
    "greet_user('Prof. Meyer')"
   ]
  },
  {
   "cell_type": "markdown",
   "metadata": {},
   "source": [
    "Default values for parameters:"
   ]
  },
  {
   "cell_type": "code",
   "execution_count": 55,
   "metadata": {},
   "outputs": [
    {
     "name": "stdout",
     "output_type": "stream",
     "text": [
      "Have a bacon pizza!\n",
      "Have a pepperoni pizza!\n"
     ]
    }
   ],
   "source": [
    "def make_pizza(topping='bacon'):\n",
    "    \"\"\"Make a single-topping pizza.\"\"\" \n",
    "    print(\"Have a \" + topping + \" pizza!\") \n",
    "\n",
    "make_pizza() \n",
    "make_pizza('pepperoni')"
   ]
  },
  {
   "cell_type": "markdown",
   "metadata": {},
   "source": [
    "Returning a value:"
   ]
  },
  {
   "cell_type": "code",
   "execution_count": 56,
   "metadata": {},
   "outputs": [
    {
     "name": "stdout",
     "output_type": "stream",
     "text": [
      "8\n"
     ]
    }
   ],
   "source": [
    "def add_numbers(x, y):\n",
    "    \"\"\"Add two numbers and return the sum.\"\"\" \n",
    "    return x + y \n",
    "sum = add_numbers(3, 5) \n",
    "print(sum)"
   ]
  },
  {
   "cell_type": "markdown",
   "metadata": {},
   "source": [
    "## Classes\n",
    "A class defines the behavior of an object and the kind of information an object can store. The information in a class is stored in attributes, and functions that belong to a class are called methods. A child class inherits the attributes and methods from its parent class."
   ]
  },
  {
   "cell_type": "code",
   "execution_count": 57,
   "metadata": {},
   "outputs": [
    {
     "name": "stdout",
     "output_type": "stream",
     "text": [
      "Peso is a great dog!\n",
      "Peso is sitting.\n"
     ]
    }
   ],
   "source": [
    "class Dog(): \n",
    "    \"\"\"Represent a dog.\"\"\" \n",
    "    \n",
    "    def __init__(self, name): \n",
    "        \"\"\"Initialize dog object.\"\"\" \n",
    "        self.name = name \n",
    "        \n",
    "    def sit(self): \n",
    "        \"\"\"Simulate sitting.\"\"\" \n",
    "        print(self.name + \" is sitting.\") \n",
    "        \n",
    "my_dog = Dog('Peso') \n",
    "\n",
    "print(my_dog.name + \" is a great dog!\") \n",
    "my_dog.sit()"
   ]
  },
  {
   "cell_type": "markdown",
   "metadata": {},
   "source": [
    "Inheritance:"
   ]
  },
  {
   "cell_type": "code",
   "execution_count": 58,
   "metadata": {},
   "outputs": [
    {
     "name": "stdout",
     "output_type": "stream",
     "text": [
      "Willie is a search dog.\n",
      "Willie is sitting.\n",
      "Willie is searching.\n"
     ]
    }
   ],
   "source": [
    "class SARDog(Dog):\n",
    "    \"\"\"Represent a search dog.\"\"\"\n",
    "    \n",
    "    def __init__(self, name):\n",
    "        \"\"\"Initialize the sardog.\"\"\"\n",
    "        super().__init__(name)\n",
    "    \n",
    "    def search(self):\n",
    "        \"\"\"Simulate searching.\"\"\"\n",
    "        print(self.name + \" is searching.\")\n",
    "        \n",
    "my_dog = SARDog('Willie')\n",
    "\n",
    "print(my_dog.name + \" is a search dog.\")\n",
    "my_dog.sit()\n",
    "my_dog.search()"
   ]
  },
  {
   "cell_type": "markdown",
   "metadata": {},
   "source": [
    "## A small programming task:\n",
    "\n",
    "choose one:\n",
    "\n",
    " - A: Write a program that calculates the radius of a circle (with user input)\n",
    " - B: Write a program to calculate number of days between two dates.\n",
    "     - use ```from datetime import date```\n",
    " - C: Write a  program to manipulate the following list.\n",
    "     - ```list = [\"VW\", \"BMW\", \"Audi\",\"Mercedes\"]```\n",
    "     - insert 2 other manufacturers\n",
    "     - sort in alphabetical order\n",
    "     - display the first and last items\n",
    "\n"
   ]
  },
  {
   "cell_type": "code",
   "execution_count": 59,
   "metadata": {},
   "outputs": [],
   "source": [
    "# write your code here"
   ]
  }
 ],
 "metadata": {
  "kernelspec": {
   "display_name": "Python 3",
   "language": "python",
   "name": "python3"
  },
  "language_info": {
   "codemirror_mode": {
    "name": "ipython",
    "version": 3
   },
   "file_extension": ".py",
   "mimetype": "text/x-python",
   "name": "python",
   "nbconvert_exporter": "python",
   "pygments_lexer": "ipython3",
   "version": "3.7.6"
  }
 },
 "nbformat": 4,
 "nbformat_minor": 2
}
