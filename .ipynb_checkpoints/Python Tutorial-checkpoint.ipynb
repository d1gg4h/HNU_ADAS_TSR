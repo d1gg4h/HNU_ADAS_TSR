{
 "cells": [
  {
   "cell_type": "markdown",
   "metadata": {},
   "source": [
    "# Python Einstieg - Kleines Lernprogramm"
   ]
  },
  {
   "cell_type": "markdown",
   "metadata": {},
   "source": [
    "## Vorwort\n",
    "Python ist eine universelle, dynamische, höhere Programmiersprache, die leicht lesbar und leicht erlernbar ist. Python zeichnet sich  vor allem durch die übersichtliche Syntax aus, da z.B. Blöcke nicht durch Klammern, sondern durch Einrückungen, strukturiert sind.\n",
    "### Python 2.7 vs Python 3.X\n",
    "Bei ersten Berührungen mit Python, stößt man schnell auf zwei verschiedene Versionen. Wie bereits aus der Versionsnummer ersichtlich wird, ist Python 2 die ältere Version. Diese wurde bis April 2020 unterstützt und gilt seit dem als \"depricated\", d.h. veraltet. Aus Legacygründen (sozusagen \"Altlast\") wird Python 2.7 jedoch weiterhin verwendet, wobei zu einer Umstellung geraten wird. \n",
    "Sollte euch ein Programm in Python 2 begegnen, solltet Ihr darauf achten, dass einige Elemente sich in Python 3 anders verhalten und **nicht eins zu eins übertragbar** sind.\n",
    "Wir verwenden ausschließlich die aktuelle Version von Python 3 (v 3.8.2 - Stand: April 2020).\n",
    "### Installation\n",
    "Die Originalquelle für Python ist die *Python Foundation*, welche die Programmiersprache entwickelt und pflegt. Weiterhin bietet die Python Foundation auch eine ausführliche Dokumentation für Python an.\n",
    "***\n",
    "[Homepage Python Foundation](https://www.python.org/)<br>\n",
    "[Python 3 Dokumentation](https://docs.python.org/3/)\n",
    "***\n",
    "Eine alternative, aber weniger schlanke, Lösung bietet *Anaconda*. Der Vorteil von Anaconda besteht darin, dass viele Packages bereits enthalten sind und weitere sich über einen Browser leicht suchen lassen.\n",
    "Weiterhin sind verschiedene Projekte wie Jupyter Notebook (dieses Dokument wurde damit erstellt) und Spyder (IDE) inbegriffen und erleichtern den Einstieg.\n",
    "***\n",
    "[Homepage Anaconda](https://www.anaconda.com)<br>\n",
    "[Anaconda Individual Edition - Kostenfreie Open-Source Version](https://www.anaconda.com/products/individual)\n",
    "***\n",
    "#### Installation von Packages\n",
    "Eine Grundlage für viele Python Programme sind *Python Module*. Da Python unter andrem durch die Comunity und von deren Beiträgen lebt, gibt es eine Vielzahl an unterschiedlichen *Packages*. Die häufigsten *Packages*, die euch womöglich begegnen werden sind:\n",
    "- Tensorflow (Mashine Learning Framework)\n",
    "    - inkl. Keras (Library)\n",
    "- Matplotlib (Visualisierung)\n",
    "- Numpy (Wissenschaftliches Rechnen)\n",
    "- Scipy (Wissenschaftliches Rechnen)\n",
    "- opencv (Bildbearbeitung & Maschinelles Sehen)\n",
    "\n",
    "Diese lassen sich einfach, mit dem folgenden Befehl, über die Komandozeile installieren:\n",
    "\n",
    "```python -m pip install SomePackage```\n",
    "***\n",
    "[Installing Python Modules](https://docs.python.org/3/installing/index.html)<br>\n",
    "[Python Package Index/Explorer](https://pypi.org/)\n",
    "***\n",
    "<p style=\"color:white;background-color:Tomato;\">Achtung!<br>\n",
    "Bitte achtet darauf das richtige gewünschte Package zu installieren, da Packages mit relativ ähnlichen Namen existieren. \n",
    "(-> Gefahr von Malware)<br>\n",
    "Installiert nur Packages, die gebraucht werden. Einige Packages können nicht nebeneinander in der gleichen Umgebung existieren.\n",
    "Verwendet bei Möglichkeit unterschiedliche virtuelle Umgebungen.<br>\n",
    "</p>\n",
    "\n",
    "[Erstellung und Verwendung von virtuellen Umgebungen](https://packaging.python.org/tutorials/installing-packages/#creating-virtual-environments)\n"
   ]
  },
  {
   "cell_type": "markdown",
   "metadata": {},
   "source": [
    "## Variablen und Strings"
   ]
  },
  {
   "cell_type": "markdown",
   "metadata": {},
   "source": [
    "Hello world"
   ]
  },
  {
   "cell_type": "code",
   "execution_count": 1,
   "metadata": {},
   "outputs": [
    {
     "name": "stdout",
     "output_type": "stream",
     "text": [
      "Hello world!\n"
     ]
    }
   ],
   "source": [
    "print(\"Hello world!\")"
   ]
  },
  {
   "cell_type": "markdown",
   "metadata": {},
   "source": [
    "\"Hello world\" mit einer Variablen"
   ]
  },
  {
   "cell_type": "code",
   "execution_count": 4,
   "metadata": {},
   "outputs": [
    {
     "name": "stdout",
     "output_type": "stream",
     "text": [
      "Hello world!\n"
     ]
    }
   ],
   "source": [
    "msg = \"Hello world!\" \n",
    "print(msg)"
   ]
  },
  {
   "cell_type": "markdown",
   "metadata": {},
   "source": [
    "Kombinierte Strings"
   ]
  },
  {
   "cell_type": "code",
   "execution_count": 7,
   "metadata": {},
   "outputs": [
    {
     "name": "stdout",
     "output_type": "stream",
     "text": [
      "Albert Einstein\n"
     ]
    }
   ],
   "source": [
    "first_name = 'Albert' \n",
    "last_name = 'Einstein' \n",
    "full_name = first_name + ' ' + last_name \n",
    "print(full_name)"
   ]
  },
  {
   "cell_type": "markdown",
   "metadata": {},
   "source": [
    "## Listen"
   ]
  },
  {
   "cell_type": "markdown",
   "metadata": {},
   "source": [
    "Wir erstellen eine einfache Liste"
   ]
  },
  {
   "cell_type": "code",
   "execution_count": 8,
   "metadata": {},
   "outputs": [],
   "source": [
    "bikes = ['BMX', 'E-Bike', 'Mountainbike']"
   ]
  },
  {
   "cell_type": "markdown",
   "metadata": {},
   "source": [
    "Auswahl des ersten Objekts"
   ]
  },
  {
   "cell_type": "code",
   "execution_count": 14,
   "metadata": {},
   "outputs": [
    {
     "name": "stdout",
     "output_type": "stream",
     "text": [
      "BMX\n"
     ]
    }
   ],
   "source": [
    "first_bike = bikes[0]\n",
    "print(first_bike)"
   ]
  },
  {
   "cell_type": "markdown",
   "metadata": {},
   "source": [
    "Auswahl des letzen Objekts"
   ]
  },
  {
   "cell_type": "code",
   "execution_count": 15,
   "metadata": {},
   "outputs": [
    {
     "name": "stdout",
     "output_type": "stream",
     "text": [
      "Mountainbike\n"
     ]
    }
   ],
   "source": [
    "last_bike = bikes[-1]\n",
    "print(last_bike)"
   ]
  },
  {
   "cell_type": "code",
   "execution_count": 13,
   "metadata": {},
   "outputs": [
    {
     "name": "stdout",
     "output_type": "stream",
     "text": [
      "BMX\n",
      "E-Bike\n",
      "Mountainbike\n"
     ]
    }
   ],
   "source": [
    "for bike in bikes: \n",
    "    print(bike)"
   ]
  },
  {
   "cell_type": "markdown",
   "metadata": {},
   "source": [
    "Objekte zur Liste hinzufügen:"
   ]
  },
  {
   "cell_type": "code",
   "execution_count": 19,
   "metadata": {},
   "outputs": [
    {
     "name": "stdout",
     "output_type": "stream",
     "text": [
      "['BMX', 'E-Bike', 'Mountainbike']\n"
     ]
    }
   ],
   "source": [
    "bikes = [] \n",
    "bikes.append('BMX') \n",
    "bikes.append('E-Bike') \n",
    "bikes.append('Mountainbike')\n",
    "print(bikes)"
   ]
  },
  {
   "cell_type": "markdown",
   "metadata": {},
   "source": [
    "Numerische Listen erstellen"
   ]
  },
  {
   "cell_type": "code",
   "execution_count": 18,
   "metadata": {},
   "outputs": [
    {
     "name": "stdout",
     "output_type": "stream",
     "text": [
      "[1, 4, 9, 16, 25, 36, 49, 64, 81, 100]\n"
     ]
    }
   ],
   "source": [
    "squares = [] \n",
    "for x in range(1, 11): \n",
    "    squares.append(x**2)\n",
    "print(squares)"
   ]
  },
  {
   "cell_type": "code",
   "execution_count": 20,
   "metadata": {},
   "outputs": [
    {
     "name": "stdout",
     "output_type": "stream",
     "text": [
      "[1, 4, 9, 16, 25, 36, 49, 64, 81, 100]\n"
     ]
    }
   ],
   "source": [
    "squares = [x**2 for x in range(1, 11)]\n",
    "print(squares)"
   ]
  },
  {
   "cell_type": "code",
   "execution_count": null,
   "metadata": {},
   "outputs": [],
   "source": [
    "Listen teilen:"
   ]
  },
  {
   "cell_type": "code",
   "execution_count": 21,
   "metadata": {},
   "outputs": [
    {
     "name": "stdout",
     "output_type": "stream",
     "text": [
      "['BMX', 'E-Bike']\n"
     ]
    }
   ],
   "source": [
    "bikes = ['BMX', 'E-Bike', 'Mountainbike', 'Stadtrad']\n",
    "first_two = bikes[:2]\n",
    "print(first_two)"
   ]
  },
  {
   "cell_type": "markdown",
   "metadata": {},
   "source": [
    "Listen kopieren"
   ]
  },
  {
   "cell_type": "code",
   "execution_count": 22,
   "metadata": {},
   "outputs": [
    {
     "name": "stdout",
     "output_type": "stream",
     "text": [
      "['BMX', 'E-Bike', 'Mountainbike', 'Stadtrad']\n"
     ]
    }
   ],
   "source": [
    "copy_of_bikes = bikes[:]\n",
    "print(copy_of_bikes)"
   ]
  },
  {
   "cell_type": "markdown",
   "metadata": {},
   "source": [
    "### Tupel"
   ]
  },
  {
   "cell_type": "code",
   "execution_count": 24,
   "metadata": {},
   "outputs": [
    {
     "data": {
      "text/plain": [
       "tuple"
      ]
     },
     "execution_count": 24,
     "metadata": {},
     "output_type": "execute_result"
    }
   ],
   "source": [
    "dimensions = (1920, 1080)\n",
    "type(dimensions)"
   ]
  },
  {
   "cell_type": "markdown",
   "metadata": {},
   "source": [
    "## Benutzer Eingaben\n",
    "Man kann den Benutzer zu einer Eingabe auffordern. Alle Eingaben werden als ```String``` gespeichert und müssen bei Bedarf umgewandelt werden"
   ]
  },
  {
   "cell_type": "code",
   "execution_count": 10,
   "metadata": {
    "scrolled": false
   },
   "outputs": [
    {
     "name": "stdout",
     "output_type": "stream",
     "text": [
      "What's your name? Christofer\n",
      "Hello, Christofer!\n"
     ]
    }
   ],
   "source": [
    "name = input(\"What's your name? \") \n",
    "print(\"Hello, \" + name + \"!\")"
   ]
  },
  {
   "cell_type": "markdown",
   "metadata": {},
   "source": [
    "Numerische Eingaben"
   ]
  },
  {
   "cell_type": "code",
   "execution_count": 11,
   "metadata": {},
   "outputs": [
    {
     "name": "stdout",
     "output_type": "stream",
     "text": [
      "How old are you? 32\n",
      "What's the value of pi? 3.14\n"
     ]
    }
   ],
   "source": [
    "age = input(\"How old are you? \") \n",
    "age = int(age) \n",
    "\n",
    "pi = input(\"What's the value of pi? \") \n",
    "pi = float(pi)"
   ]
  },
  {
   "cell_type": "markdown",
   "metadata": {},
   "source": [
    "## If-Bedingungen"
   ]
  },
  {
   "cell_type": "markdown",
   "metadata": {},
   "source": [
    "### Grundlegendes"
   ]
  },
  {
   "cell_type": "markdown",
   "metadata": {},
   "source": [
    "```Gleich x == 42 \n",
    "nicht gleich x != 42 \n",
    "größer als x > 42 \n",
    "    größer gleich x >= 42 \n",
    "kleiner als x < 42 \n",
    "    kleiner gleich x <= 42```"
   ]
  },
  {
   "cell_type": "markdown",
   "metadata": {},
   "source": [
    "### Bedingungen"
   ]
  },
  {
   "cell_type": "code",
   "execution_count": 26,
   "metadata": {},
   "outputs": [
    {
     "data": {
      "text/plain": [
       "True"
      ]
     },
     "execution_count": 26,
     "metadata": {},
     "output_type": "execute_result"
    }
   ],
   "source": [
    "'BMX' in bikes "
   ]
  },
  {
   "cell_type": "code",
   "execution_count": 27,
   "metadata": {},
   "outputs": [
    {
     "data": {
      "text/plain": [
       "True"
      ]
     },
     "execution_count": 27,
     "metadata": {},
     "output_type": "execute_result"
    }
   ],
   "source": [
    "'BMW' not in bikes"
   ]
  },
  {
   "cell_type": "code",
   "execution_count": null,
   "metadata": {},
   "outputs": [],
   "source": [
    "if age >= 18: \n",
    "    print(\"Du bist Volljährig!\")"
   ]
  },
  {
   "cell_type": "code",
   "execution_count": null,
   "metadata": {},
   "outputs": [],
   "source": [
    "if age < 4:\n",
    "    ticket_price = 0 \n",
    "elif age < 18:\n",
    "    ticket_price = 10 \n",
    "else: \n",
    "    ticket_price = 15"
   ]
  },
  {
   "cell_type": "markdown",
   "metadata": {},
   "source": [
    "## While-Schleifen"
   ]
  },
  {
   "cell_type": "code",
   "execution_count": 29,
   "metadata": {},
   "outputs": [
    {
     "name": "stdout",
     "output_type": "stream",
     "text": [
      "1\n",
      "2\n",
      "3\n",
      "4\n",
      "5\n"
     ]
    }
   ],
   "source": [
    "current_value = 1 \n",
    "while current_value <= 5:\n",
    "    print(current_value) \n",
    "    current_value += 1"
   ]
  },
  {
   "cell_type": "markdown",
   "metadata": {},
   "source": [
    "Abbruch durch Eingabe"
   ]
  },
  {
   "cell_type": "code",
   "execution_count": 13,
   "metadata": {},
   "outputs": [
    {
     "name": "stdout",
     "output_type": "stream",
     "text": [
      "Soll ich weitermachen? ja\n",
      "ja\n",
      "Soll ich weitermachen? Ja\n",
      "Ja\n",
      "Soll ich weitermachen? Nein\n",
      "Nein\n"
     ]
    }
   ],
   "source": [
    "msg = '' \n",
    "while msg != 'Nein': \n",
    "    msg = input(\"Soll ich weitermachen? \") \n",
    "    print(msg)"
   ]
  },
  {
   "cell_type": "markdown",
   "metadata": {},
   "source": [
    "## Dictionaries\n",
    "Dictionaries speichern Verbindungen zwischen Informationselementen. Jedes Element in einem Dictionary besitzt ein Schlüssel-Wert-Paar (key-value pair)\n",
    "Ein einfaches Dictionary:"
   ]
  },
  {
   "cell_type": "code",
   "execution_count": 1,
   "metadata": {},
   "outputs": [],
   "source": [
    "alien = {'color': 'green', 'points': 5}"
   ]
  },
  {
   "cell_type": "markdown",
   "metadata": {},
   "source": [
    "Ausgabe der Werte:"
   ]
  },
  {
   "cell_type": "code",
   "execution_count": 2,
   "metadata": {},
   "outputs": [
    {
     "name": "stdout",
     "output_type": "stream",
     "text": [
      "The alien's color is green\n"
     ]
    }
   ],
   "source": [
    "print(\"The alien's color is \" + alien['color'])"
   ]
  },
  {
   "cell_type": "markdown",
   "metadata": {},
   "source": [
    "Hinzufügen eines neuen Schlüssel-Wert-Paares"
   ]
  },
  {
   "cell_type": "code",
   "execution_count": 3,
   "metadata": {},
   "outputs": [],
   "source": [
    "alien['x_position'] = 0"
   ]
  },
  {
   "cell_type": "markdown",
   "metadata": {},
   "source": [
    "Durchlaufen aller Schlüssel-Wert-Paare"
   ]
  },
  {
   "cell_type": "code",
   "execution_count": 4,
   "metadata": {},
   "outputs": [
    {
     "name": "stdout",
     "output_type": "stream",
     "text": [
      "eric loves 17\n",
      "ever loves 4\n"
     ]
    }
   ],
   "source": [
    "fav_numbers = {'eric': 17, 'ever': 4} \n",
    "for name, number in fav_numbers.items(): \n",
    "    print(name + ' loves ' + str(number))"
   ]
  },
  {
   "cell_type": "markdown",
   "metadata": {},
   "source": [
    "Durchlaufen aller Schlüssel"
   ]
  },
  {
   "cell_type": "code",
   "execution_count": 5,
   "metadata": {},
   "outputs": [
    {
     "name": "stdout",
     "output_type": "stream",
     "text": [
      "eric loves a number\n",
      "ever loves a number\n"
     ]
    }
   ],
   "source": [
    "fav_numbers = {'eric': 17, 'ever': 4} \n",
    "for name in fav_numbers.keys(): \n",
    "    print(name + ' loves a number')"
   ]
  },
  {
   "cell_type": "markdown",
   "metadata": {},
   "source": [
    "Durchlaufen aller Werte"
   ]
  },
  {
   "cell_type": "code",
   "execution_count": 14,
   "metadata": {},
   "outputs": [
    {
     "name": "stdout",
     "output_type": "stream",
     "text": [
      "17 is a favorite\n",
      "4 is a favorite\n"
     ]
    }
   ],
   "source": [
    "fav_numbers = {'eric': 17, 'ever': 4} \n",
    "for number in fav_numbers.values(): \n",
    "    print(str(number) + ' is a favorite')"
   ]
  },
  {
   "cell_type": "markdown",
   "metadata": {},
   "source": [
    "## Funktionen"
   ]
  },
  {
   "cell_type": "code",
   "execution_count": 34,
   "metadata": {},
   "outputs": [
    {
     "name": "stdout",
     "output_type": "stream",
     "text": [
      "Hallo, Frau Meyer!\n"
     ]
    }
   ],
   "source": [
    "def greet_user(username):\n",
    "    \"\"\"Display a personalized greeting.\"\"\" \n",
    "    print(\"Hallo, \" + username + \"!\") \n",
    "\n",
    "greet_user('Frau Meyer')"
   ]
  },
  {
   "cell_type": "markdown",
   "metadata": {},
   "source": [
    "Standartwerte für Parameter"
   ]
  },
  {
   "cell_type": "code",
   "execution_count": 24,
   "metadata": {},
   "outputs": [
    {
     "name": "stdout",
     "output_type": "stream",
     "text": [
      "Have a bacon pizza!\n",
      "Have a pepperoni pizza!\n"
     ]
    }
   ],
   "source": [
    "def make_pizza(topping='bacon'):\n",
    "    \"\"\"Make a single-topping pizza.\"\"\" \n",
    "    print(\"Have a \" + topping + \" pizza!\") \n",
    "\n",
    "make_pizza() \n",
    "make_pizza('pepperoni')"
   ]
  },
  {
   "cell_type": "markdown",
   "metadata": {},
   "source": [
    "Ausgabe eines Wertes"
   ]
  },
  {
   "cell_type": "code",
   "execution_count": 23,
   "metadata": {},
   "outputs": [
    {
     "name": "stdout",
     "output_type": "stream",
     "text": [
      "8\n"
     ]
    }
   ],
   "source": [
    "def add_numbers(x, y):\n",
    "    \"\"\"Add two numbers and return the sum.\"\"\" \n",
    "    return x + y \n",
    "sum = add_numbers(3, 5) \n",
    "print(sum)"
   ]
  },
  {
   "cell_type": "markdown",
   "metadata": {},
   "source": [
    "## Klassen"
   ]
  },
  {
   "cell_type": "code",
   "execution_count": 28,
   "metadata": {},
   "outputs": [
    {
     "name": "stdout",
     "output_type": "stream",
     "text": [
      "Peso is a great dog!\n",
      "Peso is sitting.\n"
     ]
    }
   ],
   "source": [
    "class Dog(): \n",
    "    \"\"\"Represent a dog.\"\"\" \n",
    "    \n",
    "    def __init__(self, name): \n",
    "        \"\"\"Initialize dog object.\"\"\" \n",
    "        self.name = name \n",
    "        \n",
    "    def sit(self): \n",
    "        \"\"\"Simulate sitting.\"\"\" \n",
    "        print(self.name + \" is sitting.\") \n",
    "        \n",
    "my_dog = Dog('Peso') \n",
    "\n",
    "print(my_dog.name + \" is a great dog!\") \n",
    "my_dog.sit()"
   ]
  },
  {
   "cell_type": "markdown",
   "metadata": {},
   "source": [
    "Vererbung"
   ]
  },
  {
   "cell_type": "code",
   "execution_count": 27,
   "metadata": {},
   "outputs": [
    {
     "name": "stdout",
     "output_type": "stream",
     "text": [
      "Willie is a search dog.\n",
      "Willie is sitting.\n",
      "Willie is searching.\n"
     ]
    }
   ],
   "source": [
    "class SARDog(Dog):\n",
    "    \"\"\"Represent a search dog.\"\"\"\n",
    "    \n",
    "    def __init__(self, name):\n",
    "        \"\"\"Initialize the sardog.\"\"\"\n",
    "        super().__init__(name)\n",
    "    \n",
    "    def search(self):\n",
    "        \"\"\"Simulate searching.\"\"\"\n",
    "        print(self.name + \" is searching.\")\n",
    "        \n",
    "my_dog = SARDog('Willie')\n",
    "\n",
    "print(my_dog.name + \" is a search dog.\")\n",
    "my_dog.sit()\n",
    "my_dog.search()"
   ]
  }
 ],
 "metadata": {
  "kernelspec": {
   "display_name": "Python 3",
   "language": "python",
   "name": "python3"
  },
  "language_info": {
   "codemirror_mode": {
    "name": "ipython",
    "version": 3
   },
   "file_extension": ".py",
   "mimetype": "text/x-python",
   "name": "python",
   "nbconvert_exporter": "python",
   "pygments_lexer": "ipython3",
   "version": "3.7.6"
  }
 },
 "nbformat": 4,
 "nbformat_minor": 2
}
