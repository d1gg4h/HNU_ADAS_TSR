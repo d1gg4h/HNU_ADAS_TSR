{
 "cells": [
  {
   "cell_type": "markdown",
   "metadata": {},
   "source": [
    "# Practical example of machine learning with *Iris flower data set*"
   ]
  },
  {
   "cell_type": "markdown",
   "metadata": {},
   "source": [
    "## The *Iris flower data set*\n",
    "\n",
    "The Iris flower data set is a common test case for machine learning.\n",
    "This data set consists of 50 samples of tree different species of Iris ( = 150 peaces of data). Each sample is defined by 4 different features. The fact, that you can define the species of the Iris by the combination of the features makes it a good case for our first machine learning approach.<br>\n",
    "Lets take a closer look at the data set."
   ]
  },
  {
   "cell_type": "code",
   "execution_count": null,
   "metadata": {},
   "outputs": [],
   "source": [
    "import numpy as np\n",
    "import pandas as pd\n",
    "import matplotlib.pyplot as plt"
   ]
  },
  {
   "cell_type": "code",
   "execution_count": null,
   "metadata": {},
   "outputs": [],
   "source": [
    "df = pd.read_csv('./src/iris.csv')\n",
    "df.head()"
   ]
  },
  {
   "cell_type": "code",
   "execution_count": null,
   "metadata": {},
   "outputs": [],
   "source": [
    "df.shape"
   ]
  },
  {
   "cell_type": "code",
   "execution_count": null,
   "metadata": {},
   "outputs": [],
   "source": [
    "type(df)"
   ]
  },
  {
   "cell_type": "code",
   "execution_count": null,
   "metadata": {},
   "outputs": [],
   "source": [
    "l = len(df['species'])\n",
    "print (l)"
   ]
  },
  {
   "cell_type": "code",
   "execution_count": null,
   "metadata": {},
   "outputs": [],
   "source": [
    "colors = {'Iris-setosa' : 'r', 'Iris-versicolor' : 'g', 'Iris-virginica' : 'b'}\n",
    "print(colors)"
   ]
  },
  {
   "cell_type": "code",
   "execution_count": null,
   "metadata": {},
   "outputs": [],
   "source": [
    "fig, ax = plt.subplots(figsize=(10, 5))\n",
    "for i in range(len(df['sepal_length'])):\n",
    "    l = df['petal_length'][i]\n",
    "    w = df['petal_width'][i]\n",
    "    sp = df['species'][i]\n",
    "    col = colors[df['species'][i]]\n",
    "    ax.scatter(l, w, color=col)\n",
    "\n",
    "ax.set_title('Iris data')\n",
    "ax.set_xlabel('petal length')\n",
    "ax.set_ylabel('petal width')"
   ]
  },
  {
   "cell_type": "code",
   "execution_count": null,
   "metadata": {},
   "outputs": [],
   "source": [
    "import seaborn as sns\n",
    "sns.pairplot(df.iloc[:,1:6],hue=\"species\")"
   ]
  },
  {
   "cell_type": "code",
   "execution_count": null,
   "metadata": {},
   "outputs": [],
   "source": [
    "species_to_int = {'Iris-setosa': 0, 'Iris-versicolor': 1, 'Iris-virginica': 2} # turning each specie to an integer\n",
    "\n",
    "df['species'] = df['species'].map(species_to_int)\n",
    "df.head()"
   ]
  },
  {
   "cell_type": "markdown",
   "metadata": {},
   "source": [
    "Now we have a clear understanding of the data and can proceed to our machine learning algorithm"
   ]
  },
  {
   "cell_type": "markdown",
   "metadata": {},
   "source": [
    "## Preprocessing the data set\n",
    "First we need to transform the dataset into train data, test data and label data.\n",
    "As well as turning the ```pandas``` data frame into a 2-dimensional array"
   ]
  },
  {
   "cell_type": "code",
   "execution_count": null,
   "metadata": {},
   "outputs": [],
   "source": [
    "from sklearn.preprocessing import LabelEncoder\n",
    "from sklearn.model_selection import train_test_split\n",
    "\n",
    "#splitting the labels from the features (we take only the values to recieve a ndarray)\n",
    "X = df.iloc[:,:-1].values # these are the features\n",
    "y = df.iloc[:,-1].values # these are the labels\n",
    "print(X)\n",
    "print(y)"
   ]
  },
  {
   "cell_type": "code",
   "execution_count": null,
   "metadata": {},
   "outputs": [],
   "source": [
    "#transforming the labels to a (3, 150) array\n",
    "encoder =  LabelEncoder() \n",
    "y1 = encoder.fit_transform(y)\n",
    "Y = pd.get_dummies(y1).values \n",
    "print(Y)"
   ]
  },
  {
   "cell_type": "code",
   "execution_count": null,
   "metadata": {},
   "outputs": [],
   "source": [
    "#splitting the data set into train data and test data. The test data is used to evaluate the model\n",
    "X_train,X_test,y_train,y_test = train_test_split(X,Y,test_size=0.2,random_state=42)\n",
    "\n",
    "print('X_train:', X_train.shape, ' y_train:', y_train.shape)\n",
    "print('X_test:', X_test.shape, ' y_test:', y_test.shape)"
   ]
  },
  {
   "cell_type": "markdown",
   "metadata": {},
   "source": [
    "# Multilayer perceptron"
   ]
  },
  {
   "attachments": {
    "perceptron.png": {
     "image/png": "[encoded data removed]"
    }
   },
   "cell_type": "markdown",
   "metadata": {},
   "source": [
    "We learned in the video(s) to neural networks that perceptrons and multilayer perceptrons are learning trough the adaption of weights during the process.\n",
    "The same is happening in Keras with the [\"Dense layer\"](https://keras.io/api/layers/core_layers/dense/) and is described with the following formula:<br> ```output = activation(dot(input, kernel) + bias)```<br>\n",
    "- activation is the activation function\n",
    "- dot is the dot product (german: Skalarprodukt) , e.g. product of vectors\n",
    "- kernel is a weights matrix created by the layer<br> \n",
    "Now lets combine this formula with the model of a perceptron:<br> \n",
    "![perceptron.png](attachment:perceptron.png)"
   ]
  },
  {
   "cell_type": "markdown",
   "metadata": {},
   "source": [
    "As we can see the Keras ```Dense layer``` is quite the same thing as a perceptron.\n",
    "Lets take a closer look at the elements of the ```Dense layer```:"
   ]
  },
  {
   "cell_type": "raw",
   "metadata": {},
   "source": [
    "tf.keras.layers.Dense(\n",
    "    units,\n",
    "    activation=None,\n",
    "    use_bias=True,\n",
    "    kernel_initializer=\"glorot_uniform\",\n",
    "    bias_initializer=\"zeros\",\n",
    "    kernel_regularizer=None,\n",
    "    bias_regularizer=None,\n",
    "    activity_regularizer=None,\n",
    "    kernel_constraint=None,\n",
    "    bias_constraint=None,\n",
    "    **kwargs\n",
    ")"
   ]
  },
  {
   "cell_type": "markdown",
   "metadata": {},
   "source": [
    "Dont worry, not all elements are important for now, but we now know most of them. \n",
    "The most important for now are:<br>\n",
    " - ```units``` defines our output, e.g. how our output is shaped\n",
    " - ```activation``` is the activation function we want to use<br> [more on activation functions](https://en.wikipedia.org/wiki/Activation_function)\n",
    " \n",
    "And for the first layer we need to define the shape of the input \n",
    " - ```input_shape=(n, m)```\n",
    " "
   ]
  },
  {
   "cell_type": "code",
   "execution_count": null,
   "metadata": {},
   "outputs": [],
   "source": [
    "import tensorflow as tf\n",
    "from keras import models\n",
    "from keras import layers\n",
    "\n",
    "model = models.Sequential()\n",
    "model.add(layers.Dense(6, input_shape=(4, ), activation='relu', name=\"layer1\"))\n",
    "model.add(layers.Dense(3, activation='softmax', name=\"layer4\"))"
   ]
  },
  {
   "cell_type": "markdown",
   "metadata": {},
   "source": [
    "### How do we choose the correct size of the Dense layers? \n",
    "Unfortunately there are no exact rules, and the size needs to be determined by try and error.\n",
    "But there is a rule of thumb where to start: \n",
    " - First layer: Number of classes times 8\n",
    " - Second layer: Number of classes times 4\n",
    " - Third layer: Number of classes times 2\n",
    " - Forth layer: Number of classes"
   ]
  },
  {
   "cell_type": "markdown",
   "metadata": {},
   "source": [
    "## Exercise\n",
    "Create two additional hidden layers in the model above and adapt the ```units``` accordingly. <br>\n",
    "Note: \n",
    "- ```input_shape=()``` is only required in the first layer. <br>\n",
    "- use the paragraph above to calculate the number of units\n",
    "Describe the differences."
   ]
  },
  {
   "cell_type": "markdown",
   "metadata": {},
   "source": [
    "## Compiling the model\n",
    "#### Loss funciton\n",
    "The loss function (```loss```) computes the difference between the actual output and the predicted output, e.g the error.\n",
    "There are many different loss functions for different needs.<br>\n",
    "In our case we have one category for each data point, e.g. an example can belong to one class only.<br>\n",
    "The proper loss function in this case is the ```categorical_crossentropy```\n",
    "#### Optimizer\n",
    "The optimizer is updating the weight parameters (steering our model towards a right solution) to minimizing the loss function (-> minimizing the error)<br>\n",
    "Out of many optimizers we choose ```adam``` for its computational efficiency."
   ]
  },
  {
   "cell_type": "code",
   "execution_count": null,
   "metadata": {},
   "outputs": [],
   "source": [
    "model.compile(loss='categorical_crossentropy', optimizer='adam', metrics=['accuracy'])\n",
    "\n",
    "model.summary()"
   ]
  },
  {
   "cell_type": "markdown",
   "metadata": {},
   "source": [
    "## Starting the training\n",
    "The number of epochs is how often our dataset is passed trough our neural network. \n",
    "To achieve the learning effect we need to pass the dataset several times trough our model, so the loss function and the optimizer can do their task."
   ]
  },
  {
   "cell_type": "code",
   "execution_count": null,
   "metadata": {},
   "outputs": [],
   "source": [
    "history = model.fit(X_train, y_train, epochs=100)\n",
    "y_pred = model.predict(X_test)"
   ]
  },
  {
   "cell_type": "markdown",
   "metadata": {},
   "source": [
    "## Result\n",
    "Let's take a look at the outcome of our model."
   ]
  },
  {
   "cell_type": "code",
   "execution_count": null,
   "metadata": {},
   "outputs": [],
   "source": [
    "num_epochs = np.arange(0, 100)\n",
    "plt.figure(dpi=300)\n",
    "plt.plot(num_epochs, history.history['accuracy'], label='accuracy', c='green')\n",
    "plt.title('Iris MLP')\n",
    "plt.xlabel('epochs')\n",
    "plt.ylabel('accuracy')"
   ]
  },
  {
   "cell_type": "code",
   "execution_count": null,
   "metadata": {},
   "outputs": [],
   "source": [
    "score = model.evaluate(X_test, y_test) #Returns the loss value & metrics values for the model in test mode\n",
    "score"
   ]
  },
  {
   "cell_type": "code",
   "execution_count": null,
   "metadata": {},
   "outputs": [],
   "source": [
    "Xnew = np.array([[input(\"Insert sepal_length (range 4-8)\"),\n",
    "                  input(\"Insert sepal_widthh (range 2-4.5)\"),\n",
    "                  input(\"Insert petal_length (range 1-7)\"),\n",
    "                  input(\"Insert petal_width (range 0.1-2.5)\")]])\n",
    "#print(Xnew)\n",
    "shape.Xnew"
   ]
  },
  {
   "cell_type": "code",
   "execution_count": null,
   "metadata": {},
   "outputs": [],
   "source": [
    "Xnew = np.array([[3, 2.5, 5,  0.6]])\n",
    "Xnew.shape"
   ]
  },
  {
   "cell_type": "markdown",
   "metadata": {},
   "source": [
    "## Exercise\n",
    "\n",
    "Create an array for *Iris-setosa* and run the prediction."
   ]
  },
  {
   "cell_type": "code",
   "execution_count": null,
   "metadata": {
    "scrolled": true
   },
   "outputs": [],
   "source": [
    "ynew = model.predict_classes(Xnew)\n",
    "# show the inputs and predicted outputs\n",
    "print(\"X=%s, Predicted=%s\" % (Xnew[0], ynew[0]))"
   ]
  },
  {
   "cell_type": "code",
   "execution_count": null,
   "metadata": {},
   "outputs": [],
   "source": [
    "if ynew == 0: \n",
    "    print('Iris-setosa')\n",
    "elif ynew == 2:\n",
    "    print ('Iris-virginica')\n",
    "else:\n",
    "    print('Iris-versicolor')"
   ]
  },
  {
   "cell_type": "code",
   "execution_count": null,
   "metadata": {},
   "outputs": [],
   "source": [
    "ynew = model.predict_proba(Xnew)\n",
    "np.round(ynew, 2)\n",
    "# show the inputs and predicted outputs\n",
    "print(\"X=%s, Predicted=%s\" % (Xnew[0], ynew[0]))"
   ]
  }
 ],
 "metadata": {
  "kernelspec": {
   "display_name": "Python 3",
   "language": "python",
   "name": "python3"
  },
  "language_info": {
   "codemirror_mode": {
    "name": "ipython",
    "version": 3
   },
   "file_extension": ".py",
   "mimetype": "text/x-python",
   "name": "python",
   "nbconvert_exporter": "python",
   "pygments_lexer": "ipython3",
   "version": "3.7.6"
  }
 },
 "nbformat": 4,
 "nbformat_minor": 4
}
